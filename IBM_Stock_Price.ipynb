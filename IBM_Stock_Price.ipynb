{
 "cells": [
  {
   "cell_type": "markdown",
   "metadata": {},
   "source": [
    "# IBM Stock Price\n",
    "\n",
    "### Final Assignement\n",
    "\n",
    "<br/> Benas Maruškevičius\n",
    "<br/> email: benas.ma8730@go.kauko.lt"
   ]
  },
  {
   "cell_type": "markdown",
   "metadata": {},
   "source": [
    "### Import libraries\n",
    "\n",
    "We need 3 main libraries:\n",
    "\n",
    "- [Numpy](http://www.numpy.org): it is the fundamental package for scientific computing with Python. It contains among other things a powerful N-dimensional array object that can be used as an efficient multi-dimensional container of generic data. Arbitrary data-types can be defined.\n",
    "- [matplotlib](https://matplotlib.org):  it is a Python 2D plotting library which produces publication quality figures in a variety of hardcopy formats and interactive environments across platforms.\n",
    "- [pandas](https://pandas.pydata.org): is a software library written for the Python programming language for data manipulation and analysis. In particular, it offers data structures and operations for manipulating numerical tables and time series."
   ]
  },
  {
   "cell_type": "code",
   "execution_count": 1,
   "metadata": {},
   "outputs": [],
   "source": [
    "# importing the libraries\n",
    "import numpy as np\n",
    "import matplotlib.pyplot as plt\n",
    "import pandas as pd"
   ]
  },
  {
   "cell_type": "markdown",
   "metadata": {},
   "source": [
    "### Import the dataset"
   ]
  },
  {
   "cell_type": "markdown",
   "metadata": {},
   "source": [
    "Dataset description: the open high, low and close values of the IBM Stock from 2009 to 2019.
   ]
  },
  {
   "cell_type": "code",
   "execution_count": 2,
   "metadata": {},
   "outputs": [],
   "source": [
    "#importing the dataset\n",
    "dataset_train = pd.read_csv('Training_Data.csv')"
   ]
  },
  {
   "cell_type": "code",
   "execution_count": 3,
   "metadata": {},
   "outputs": [
    {
     "data": {
      "text/html": [
       "<div>\n",
       "<style scoped>\n",
       "    .dataframe tbody tr th:only-of-type {\n",
       "        vertical-align: middle;\n",
       "    }\n",
       "\n",
       "    .dataframe tbody tr th {\n",
       "        vertical-align: top;\n",
       "    }\n",
       "\n",
       "    .dataframe thead th {\n",
       "        text-align: right;\n",
       "    }\n",
       "</style>\n",
       "<table border=\"1\" class=\"dataframe\">\n",
       "  <thead>\n",
       "    <tr style=\"text-align: right;\">\n",
       "      <th></th>\n",
       "      <th>Date</th>\n",
       "      <th>Open</th>\n",
       "      <th>High</th>\n",
       "      <th>Low</th>\n",
       "      <th>Close</th>\n",
       "      <th>Adj Close</th>\n",
       "      <th>Volume</th>\n",
       "    </tr>\n",
       "  </thead>\n",
       "  <tbody>\n",
       "    <tr>\n",
       "      <td>0</td>\n",
       "      <td>2009-07-30</td>\n",
       "      <td>118.000000</td>\n",
       "      <td>119.370003</td>\n",
       "      <td>117.669998</td>\n",
       "      <td>117.860001</td>\n",
       "      <td>86.538223</td>\n",
       "      <td>6803100</td>\n",
       "    </tr>\n",
       "    <tr>\n",
       "      <td>1</td>\n",
       "      <td>2009-07-31</td>\n",
       "      <td>117.559998</td>\n",
       "      <td>118.989998</td>\n",
       "      <td>117.559998</td>\n",
       "      <td>117.930000</td>\n",
       "      <td>86.589630</td>\n",
       "      <td>5329600</td>\n",
       "    </tr>\n",
       "    <tr>\n",
       "      <td>2</td>\n",
       "      <td>2009-08-03</td>\n",
       "      <td>118.879997</td>\n",
       "      <td>119.959999</td>\n",
       "      <td>118.690002</td>\n",
       "      <td>119.919998</td>\n",
       "      <td>88.050774</td>\n",
       "      <td>6108200</td>\n",
       "    </tr>\n",
       "    <tr>\n",
       "      <td>3</td>\n",
       "      <td>2009-08-04</td>\n",
       "      <td>119.169998</td>\n",
       "      <td>119.800003</td>\n",
       "      <td>119.019997</td>\n",
       "      <td>119.599998</td>\n",
       "      <td>87.815811</td>\n",
       "      <td>4993500</td>\n",
       "    </tr>\n",
       "    <tr>\n",
       "      <td>4</td>\n",
       "      <td>2009-08-05</td>\n",
       "      <td>118.519997</td>\n",
       "      <td>119.000000</td>\n",
       "      <td>117.860001</td>\n",
       "      <td>118.470001</td>\n",
       "      <td>86.986099</td>\n",
       "      <td>5025800</td>\n",
       "    </tr>\n",
       "  </tbody>\n",
       "</table>\n",
       "</div>"
      ],
      "text/plain": [
       "         Date        Open        High         Low       Close  Adj Close  \\\n",
       "0  2009-07-30  118.000000  119.370003  117.669998  117.860001  86.538223   \n",
       "1  2009-07-31  117.559998  118.989998  117.559998  117.930000  86.589630   \n",
       "2  2009-08-03  118.879997  119.959999  118.690002  119.919998  88.050774   \n",
       "3  2009-08-04  119.169998  119.800003  119.019997  119.599998  87.815811   \n",
       "4  2009-08-05  118.519997  119.000000  117.860001  118.470001  86.986099   \n",
       "\n",
       "    Volume  \n",
       "0  6803100  \n",
       "1  5329600  \n",
       "2  6108200  \n",
       "3  4993500  \n",
       "4  5025800  "
      ]
     },
     "execution_count": 3,
     "metadata": {},
     "output_type": "execute_result"
    }
   ],
   "source": [
    "dataset_train.head()"
   ]
  },
  {
   "cell_type": "code",
   "execution_count": 4,
   "metadata": {},
   "outputs": [],
   "source": [
    "# Create a subtable of relevant entries (open values)\n",
    "training_set = dataset_train.iloc[:, 1:2].values "
   ]
  },
  {
   "cell_type": "code",
   "execution_count": 5,
   "metadata": {},
   "outputs": [
    {
     "data": {
      "text/plain": [
       "array([[118.      ],\n",
       "       [117.559998],\n",
       "       [118.879997],\n",
       "       ...,\n",
       "       [151.      ],\n",
       "       [151.110001],\n",
       "       [150.      ]])"
      ]
     },
     "execution_count": 5,
     "metadata": {},
     "output_type": "execute_result"
    }
   ],
   "source": [
    "training_set"
   ]
  },
  {
   "cell_type": "markdown",
   "metadata": {},
   "source": [
    "### Feature Scaling"
   ]
  },
  {
   "cell_type": "code",
   "execution_count": 6,
   "metadata": {},
   "outputs": [],
   "source": [
    "# Feature Scaling\n",
    "\n",
    "# import the MinMaxScaler\n",
    "from sklearn.preprocessing import MinMaxScaler"
   ]
  },
  {
   "cell_type": "code",
   "execution_count": 7,
   "metadata": {},
   "outputs": [],
   "source": [
    "# create a scaler instance to rescale all data to the range of 0.0 to 1.0 \n",
    "sc = MinMaxScaler(feature_range = (0, 1))"
   ]
  },
  {
   "cell_type": "code",
   "execution_count": 8,
   "metadata": {},
   "outputs": [],
   "source": [
    "# create the actual training set of scaled values\n",
    "training_set_scaled = sc.fit_transform(training_set)"
   ]
  },
  {
   "cell_type": "code",
   "execution_count": 9,
   "metadata": {},
   "outputs": [
    {
     "data": {
      "text/plain": [
       "array([[0.09312721],\n",
       "       [0.08902959],\n",
       "       [0.10132237],\n",
       "       ...,\n",
       "       [0.40044699],\n",
       "       [0.4014714 ],\n",
       "       [0.39113427]])"
      ]
     },
     "execution_count": 9,
     "metadata": {},
     "output_type": "execute_result"
    }
   ],
   "source": [
    "training_set_scaled"
   ]
  },
  {
   "cell_type": "markdown",
   "metadata": {},
   "source": [
    "### Splitting the training set to dependent and independent variables"
   ]
  },
  {
   "cell_type": "code",
   "execution_count": 10,
   "metadata": {},
   "outputs": [],
   "source": [
    "# Creating a data structure with 90 timesteps and 1 output\n",
    "\n",
    "# the 90 stock prices\n",
    "X_train = [] "
   ]
  },
  {
   "cell_type": "code",
   "execution_count": 11,
   "metadata": {},
   "outputs": [
    {
     "data": {
      "text/plain": [
       "(2517, 1)"
      ]
     },
     "execution_count": 11,
     "metadata": {},
     "output_type": "execute_result"
    }
   ],
   "source": [
    "training_set_scaled.shape"
   ]
  },
  {
   "cell_type": "code",
   "execution_count": 12,
   "metadata": {},
   "outputs": [],
   "source": [
    "# the stock price today\n",
    "y_train = [] "
   ]
  },
  {
   "cell_type": "code",
   "execution_count": 13,
   "metadata": {},
   "outputs": [],
   "source": [
    "# we start from day 90 because that is the first instance allowing us to \n",
    "# go back 90 days\n",
    "for i in range(90, 2517): \n",
    "    # 0 is the column ID, the only column in this case.    \n",
    "    # put the last 90 days values in one row of X_train\n",
    "    X_train.append(training_set_scaled[i-90:i, 0]) \n",
    "    y_train.append(training_set_scaled[i, 0])"
   ]
  },
  {
   "cell_type": "code",
   "execution_count": 14,
   "metadata": {},
   "outputs": [],
   "source": [
    "X_train, y_train = np.array(X_train), np.array(y_train)"
   ]
  },
  {
   "cell_type": "code",
   "execution_count": 15,
   "metadata": {},
   "outputs": [
    {
     "data": {
      "text/plain": [
       "array([[0.09312721, 0.08902959, 0.10132237, ..., 0.17992176, 0.18252931,\n",
       "        0.18997945],\n",
       "       [0.08902959, 0.10132237, 0.10402307, ..., 0.18252931, 0.18997945,\n",
       "        0.17582414],\n",
       "       [0.10132237, 0.10402307, 0.09796979, ..., 0.18997945, 0.17582414,\n",
       "        0.17666232],\n",
       "       ...,\n",
       "       [0.30694734, 0.3029428 , 0.28962567, ..., 0.39644259, 0.39225175,\n",
       "        0.38945805],\n",
       "       [0.3029428 , 0.28962567, 0.30704041, ..., 0.39225175, 0.38945805,\n",
       "        0.40044699],\n",
       "       [0.28962567, 0.30704041, 0.28925309, ..., 0.38945805, 0.40044699,\n",
       "        0.4014714 ]])"
      ]
     },
     "execution_count": 15,
     "metadata": {},
     "output_type": "execute_result"
    }
   ],
   "source": [
    "X_train"
   ]
  },
  {
   "cell_type": "markdown",
   "metadata": {},
   "source": [
    "### Reshaping the Matrix\n",
    "\n",
    "We need to add a new matrix dimension to accommodate the indicator (predictor). "
   ]
  },
  {
   "cell_type": "code",
   "execution_count": 16,
   "metadata": {},
   "outputs": [],
   "source": [
    "# Reshaping the data matrix, we retain the 2 original dimensions and add a third of depth=1\n",
    "X_train = np.reshape(X_train, (X_train.shape[0], X_train.shape[1], 1))"
   ]
  },
  {
   "cell_type": "markdown",
   "metadata": {},
   "source": [
    "## Building the RNN"
   ]
  },
  {
   "cell_type": "code",
   "execution_count": 17,
   "metadata": {},
   "outputs": [
    {
     "name": "stderr",
     "output_type": "stream",
     "text": [
      "Using TensorFlow backend.\n",
      "/opt/conda/lib/python3.7/site-packages/tensorflow/python/framework/dtypes.py:526: FutureWarning: Passing (type, 1) or '1type' as a synonym of type is deprecated; in a future version of numpy, it will be understood as (type, (1,)) / '(1,)type'.\n",
      "  _np_qint8 = np.dtype([(\"qint8\", np.int8, 1)])\n",
      "/opt/conda/lib/python3.7/site-packages/tensorflow/python/framework/dtypes.py:527: FutureWarning: Passing (type, 1) or '1type' as a synonym of type is deprecated; in a future version of numpy, it will be understood as (type, (1,)) / '(1,)type'.\n",
      "  _np_quint8 = np.dtype([(\"quint8\", np.uint8, 1)])\n",
      "/opt/conda/lib/python3.7/site-packages/tensorflow/python/framework/dtypes.py:528: FutureWarning: Passing (type, 1) or '1type' as a synonym of type is deprecated; in a future version of numpy, it will be understood as (type, (1,)) / '(1,)type'.\n",
      "  _np_qint16 = np.dtype([(\"qint16\", np.int16, 1)])\n",
      "/opt/conda/lib/python3.7/site-packages/tensorflow/python/framework/dtypes.py:529: FutureWarning: Passing (type, 1) or '1type' as a synonym of type is deprecated; in a future version of numpy, it will be understood as (type, (1,)) / '(1,)type'.\n",
      "  _np_quint16 = np.dtype([(\"quint16\", np.uint16, 1)])\n",
      "/opt/conda/lib/python3.7/site-packages/tensorflow/python/framework/dtypes.py:530: FutureWarning: Passing (type, 1) or '1type' as a synonym of type is deprecated; in a future version of numpy, it will be understood as (type, (1,)) / '(1,)type'.\n",
      "  _np_qint32 = np.dtype([(\"qint32\", np.int32, 1)])\n",
      "/opt/conda/lib/python3.7/site-packages/tensorflow/python/framework/dtypes.py:535: FutureWarning: Passing (type, 1) or '1type' as a synonym of type is deprecated; in a future version of numpy, it will be understood as (type, (1,)) / '(1,)type'.\n",
      "  np_resource = np.dtype([(\"resource\", np.ubyte, 1)])\n"
     ]
    }
   ],
   "source": [
    "# Importing the Keras libraries and packages\n",
    "from keras.models import Sequential\n",
    "from keras.layers import Dense\n",
    "from keras.layers import LSTM\n",
    "from keras.layers import Dropout"
   ]
  },
  {
   "cell_type": "code",
   "execution_count": 18,
   "metadata": {},
   "outputs": [],
   "source": [
    "# Initialising the RNN as a sequence of layers\n",
    "regressor = Sequential()"
   ]
  },
  {
   "cell_type": "markdown",
   "metadata": {},
   "source": [
    "### Add First Layer"
   ]
  },
  {
   "cell_type": "code",
   "execution_count": 19,
   "metadata": {},
   "outputs": [
    {
     "name": "stdout",
     "output_type": "stream",
     "text": [
      "WARNING:tensorflow:From /opt/conda/lib/python3.7/site-packages/tensorflow/python/framework/op_def_library.py:263: colocate_with (from tensorflow.python.framework.ops) is deprecated and will be removed in a future version.\n",
      "Instructions for updating:\n",
      "Colocations handled automatically by placer.\n"
     ]
    }
   ],
   "source": [
    "# Adding the input layer and the LSTM layer\n",
    "regressor.add(LSTM(units = 50, return_sequences = True, input_shape =  (X_train.shape[1], 1)))"
   ]
  },
  {
   "cell_type": "code",
   "execution_count": 20,
   "metadata": {},
   "outputs": [
    {
     "name": "stdout",
     "output_type": "stream",
     "text": [
      "WARNING:tensorflow:From /opt/conda/lib/python3.7/site-packages/keras/backend/tensorflow_backend.py:3733: calling dropout (from tensorflow.python.ops.nn_ops) with keep_prob is deprecated and will be removed in a future version.\n",
      "Instructions for updating:\n",
      "Please use `rate` instead of `keep_prob`. Rate should be set to `rate = 1 - keep_prob`.\n"
     ]
    }
   ],
   "source": [
    "# the argument is the dropout rate to ignore in the layers (20%)\n",
    "regressor.add(Dropout(0.2))\n"
   ]
  },
  {
   "cell_type": "markdown",
   "metadata": {},
   "source": [
    "### Add More Layers"
   ]
  },
  {
   "cell_type": "code",
   "execution_count": 21,
   "metadata": {},
   "outputs": [],
   "source": [
    "# Adding a second LSTM layer and some Dropout regularisation\n",
    "regressor.add(LSTM(units = 50, return_sequences = True))\n",
    "regressor.add(Dropout(0.2))"
   ]
  },
  {
   "cell_type": "code",
   "execution_count": 22,
   "metadata": {},
   "outputs": [],
   "source": [
    "# Adding a third LSTM layer and some Dropout regularisation\n",
    "regressor.add(LSTM(units = 50, return_sequences = True))\n",
    "regressor.add(Dropout(0.2))"
   ]
  },
  {
   "cell_type": "code",
   "execution_count": 23,
   "metadata": {},
   "outputs": [],
   "source": [
    "# Adding a fourth LSTM layer and some Dropout regularisation\n",
    "regressor.add(LSTM(units = 50))\n",
    "regressor.add(Dropout(0.2))"
   ]
  },
  {
   "cell_type": "markdown",
   "metadata": {},
   "source": [
    "### Add Output Layer & Compile"
   ]
  },
  {
   "cell_type": "code",
   "execution_count": 24,
   "metadata": {},
   "outputs": [],
   "source": [
    "# Adding the output layer\n",
    "regressor.add(Dense(units = 1))"
   ]
  },
  {
   "cell_type": "code",
   "execution_count": 25,
   "metadata": {},
   "outputs": [],
   "source": [
    "# Compiling the RNN\n",
    "regressor.compile(optimizer = 'adam', loss = 'mean_squared_error')"
   ]
  },
  {
   "cell_type": "markdown",
   "metadata": {},
   "source": [
    "## Train and deploy the RNN"
   ]
  },
  {
   "cell_type": "markdown",
   "metadata": {},
   "source": [
    "### Fit the RNN to the Training set"
   ]
  },
  {
   "cell_type": "code",
   "execution_count": 26,
   "metadata": {
    "scrolled": true
   },
   "outputs": [
    {
     "name": "stdout",
     "output_type": "stream",
     "text": [
      "WARNING:tensorflow:From /opt/conda/lib/python3.7/site-packages/tensorflow/python/ops/math_ops.py:3066: to_int32 (from tensorflow.python.ops.math_ops) is deprecated and will be removed in a future version.\n",
      "Instructions for updating:\n",
      "Use tf.cast instead.\n",
      "Epoch 1/100\n",
      "2427/2427 [==============================] - 16s 7ms/step - loss: 0.0332\n",
      "Epoch 2/100\n",
      "2427/2427 [==============================] - 14s 6ms/step - loss: 0.0064\n",
      "Epoch 3/100\n",
      "2427/2427 [==============================] - 16s 7ms/step - loss: 0.0060\n",
      "Epoch 4/100\n",
      "2427/2427 [==============================] - 16s 7ms/step - loss: 0.0053\n",
      "Epoch 5/100\n",
      "2427/2427 [==============================] - 17s 7ms/step - loss: 0.0049\n",
      "Epoch 6/100\n",
      "2427/2427 [==============================] - 17s 7ms/step - loss: 0.0046\n",
      "Epoch 7/100\n",
      "2427/2427 [==============================] - 17s 7ms/step - loss: 0.0045\n",
      "Epoch 8/100\n",
      "2427/2427 [==============================] - 18s 7ms/step - loss: 0.0041\n",
      "Epoch 9/100\n",
      "2427/2427 [==============================] - 17s 7ms/step - loss: 0.0040\n",
      "Epoch 10/100\n",
      "2427/2427 [==============================] - 16s 7ms/step - loss: 0.0039\n",
      "Epoch 11/100\n",
      "2427/2427 [==============================] - 16s 7ms/step - loss: 0.0036\n",
      "Epoch 12/100\n",
      "2427/2427 [==============================] - 16s 7ms/step - loss: 0.0034\n",
      "Epoch 13/100\n",
      "2427/2427 [==============================] - 16s 7ms/step - loss: 0.0033\n",
      "Epoch 14/100\n",
      "2427/2427 [==============================] - 17s 7ms/step - loss: 0.0030\n",
      "Epoch 15/100\n",
      "2427/2427 [==============================] - 16s 7ms/step - loss: 0.0033\n",
      "Epoch 16/100\n",
      "2427/2427 [==============================] - 14s 6ms/step - loss: 0.0030\n",
      "Epoch 17/100\n",
      "2427/2427 [==============================] - 14s 6ms/step - loss: 0.0030\n",
      "Epoch 18/100\n",
      "2427/2427 [==============================] - 14s 6ms/step - loss: 0.0030\n",
      "Epoch 19/100\n",
      "2427/2427 [==============================] - 15s 6ms/step - loss: 0.0027\n",
      "Epoch 20/100\n",
      "2427/2427 [==============================] - 16s 7ms/step - loss: 0.0026\n",
      "Epoch 21/100\n",
      "2427/2427 [==============================] - 16s 7ms/step - loss: 0.0027\n",
      "Epoch 22/100\n",
      "2427/2427 [==============================] - 16s 7ms/step - loss: 0.0025\n",
      "Epoch 23/100\n",
      "2427/2427 [==============================] - 16s 7ms/step - loss: 0.0025\n",
      "Epoch 24/100\n",
      "2427/2427 [==============================] - 16s 7ms/step - loss: 0.0023\n",
      "Epoch 25/100\n",
      "2427/2427 [==============================] - 16s 7ms/step - loss: 0.0023\n",
      "Epoch 26/100\n",
      "2427/2427 [==============================] - 16s 7ms/step - loss: 0.0024\n",
      "Epoch 27/100\n",
      "2427/2427 [==============================] - 16s 7ms/step - loss: 0.0023\n",
      "Epoch 28/100\n",
      "2427/2427 [==============================] - 16s 7ms/step - loss: 0.0023\n",
      "Epoch 29/100\n",
      "2427/2427 [==============================] - 16s 7ms/step - loss: 0.0021\n",
      "Epoch 30/100\n",
      "2427/2427 [==============================] - 16s 7ms/step - loss: 0.0020\n",
      "Epoch 31/100\n",
      "2427/2427 [==============================] - 16s 7ms/step - loss: 0.0019\n",
      "Epoch 32/100\n",
      "2427/2427 [==============================] - 18s 7ms/step - loss: 0.0019\n",
      "Epoch 33/100\n",
      "2427/2427 [==============================] - 16s 7ms/step - loss: 0.0020\n",
      "Epoch 34/100\n",
      "2427/2427 [==============================] - 16s 7ms/step - loss: 0.0020\n",
      "Epoch 35/100\n",
      "2427/2427 [==============================] - 16s 7ms/step - loss: 0.0019\n",
      "Epoch 36/100\n",
      "2427/2427 [==============================] - 16s 7ms/step - loss: 0.0017\n",
      "Epoch 37/100\n",
      "2427/2427 [==============================] - 16s 7ms/step - loss: 0.0016\n",
      "Epoch 38/100\n",
      "2427/2427 [==============================] - 16s 7ms/step - loss: 0.0017\n",
      "Epoch 39/100\n",
      "2427/2427 [==============================] - 16s 7ms/step - loss: 0.0017\n",
      "Epoch 40/100\n",
      "2427/2427 [==============================] - 16s 7ms/step - loss: 0.0015\n",
      "Epoch 41/100\n",
      "2427/2427 [==============================] - 16s 7ms/step - loss: 0.0016\n",
      "Epoch 42/100\n",
      "2427/2427 [==============================] - 16s 7ms/step - loss: 0.0015\n",
      "Epoch 43/100\n",
      "2427/2427 [==============================] - 16s 7ms/step - loss: 0.0015\n",
      "Epoch 44/100\n",
      "2427/2427 [==============================] - 16s 7ms/step - loss: 0.0015\n",
      "Epoch 45/100\n",
      "2427/2427 [==============================] - 16s 7ms/step - loss: 0.0014\n",
      "Epoch 46/100\n",
      "2427/2427 [==============================] - 16s 7ms/step - loss: 0.0013\n",
      "Epoch 47/100\n",
      "2427/2427 [==============================] - 17s 7ms/step - loss: 0.0014\n",
      "Epoch 48/100\n",
      "2427/2427 [==============================] - 16s 7ms/step - loss: 0.0014\n",
      "Epoch 49/100\n",
      "2427/2427 [==============================] - 16s 7ms/step - loss: 0.0013\n",
      "Epoch 50/100\n",
      "2427/2427 [==============================] - 16s 7ms/step - loss: 0.0013\n",
      "Epoch 51/100\n",
      "2427/2427 [==============================] - 16s 7ms/step - loss: 0.0012\n",
      "Epoch 52/100\n",
      "2427/2427 [==============================] - 16s 7ms/step - loss: 0.0013\n",
      "Epoch 53/100\n",
      "2427/2427 [==============================] - 16s 7ms/step - loss: 0.0014\n",
      "Epoch 54/100\n",
      "2427/2427 [==============================] - 16s 7ms/step - loss: 0.0012\n",
      "Epoch 55/100\n",
      "2427/2427 [==============================] - 16s 7ms/step - loss: 0.0012\n",
      "Epoch 56/100\n",
      "2427/2427 [==============================] - 16s 7ms/step - loss: 0.0012\n",
      "Epoch 57/100\n",
      "2427/2427 [==============================] - 16s 7ms/step - loss: 0.0011\n",
      "Epoch 58/100\n",
      "2427/2427 [==============================] - 16s 7ms/step - loss: 0.0011\n",
      "Epoch 59/100\n",
      "2427/2427 [==============================] - 16s 7ms/step - loss: 0.0012\n",
      "Epoch 60/100\n",
      "2427/2427 [==============================] - 16s 7ms/step - loss: 0.0010\n",
      "Epoch 61/100\n",
      "2427/2427 [==============================] - 16s 7ms/step - loss: 0.0010\n",
      "Epoch 62/100\n",
      "2427/2427 [==============================] - 16s 7ms/step - loss: 0.0011\n",
      "Epoch 63/100\n",
      "2427/2427 [==============================] - 17s 7ms/step - loss: 0.0010\n",
      "Epoch 64/100\n",
      "2427/2427 [==============================] - 17s 7ms/step - loss: 9.8874e-04\n",
      "Epoch 65/100\n",
      "2427/2427 [==============================] - 17s 7ms/step - loss: 0.0010\n",
      "Epoch 66/100\n",
      "2427/2427 [==============================] - 17s 7ms/step - loss: 9.7013e-04\n",
      "Epoch 67/100\n",
      "2427/2427 [==============================] - 17s 7ms/step - loss: 0.0011\n",
      "Epoch 68/100\n",
      "2427/2427 [==============================] - 16s 6ms/step - loss: 0.0011\n",
      "Epoch 69/100\n",
      "2427/2427 [==============================] - 14s 6ms/step - loss: 9.8458e-04\n",
      "Epoch 70/100\n",
      "2427/2427 [==============================] - 14s 6ms/step - loss: 9.6499e-04\n",
      "Epoch 71/100\n",
      "2427/2427 [==============================] - 14s 6ms/step - loss: 0.0010\n",
      "Epoch 72/100\n",
      "2427/2427 [==============================] - 15s 6ms/step - loss: 9.7198e-04\n",
      "Epoch 73/100\n",
      "2427/2427 [==============================] - 19s 8ms/step - loss: 9.0570e-04\n",
      "Epoch 74/100\n",
      "2427/2427 [==============================] - 18s 8ms/step - loss: 9.7377e-04\n",
      "Epoch 75/100\n",
      "2427/2427 [==============================] - 17s 7ms/step - loss: 0.0012\n",
      "Epoch 76/100\n",
      "2427/2427 [==============================] - 17s 7ms/step - loss: 0.0010\n",
      "Epoch 77/100\n",
      "2427/2427 [==============================] - 19s 8ms/step - loss: 9.3301e-04\n",
      "Epoch 78/100\n",
      "2427/2427 [==============================] - 20s 8ms/step - loss: 0.0011\n",
      "Epoch 79/100\n",
      "2427/2427 [==============================] - 19s 8ms/step - loss: 9.2193e-04\n",
      "Epoch 80/100\n",
      "2427/2427 [==============================] - 16s 7ms/step - loss: 9.5186e-04\n",
      "Epoch 81/100\n",
      "2427/2427 [==============================] - 17s 7ms/step - loss: 8.9049e-04\n",
      "Epoch 82/100\n",
      "2427/2427 [==============================] - 17s 7ms/step - loss: 9.0106e-04\n",
      "Epoch 83/100\n",
      "2427/2427 [==============================] - 16s 7ms/step - loss: 8.4596e-04\n",
      "Epoch 84/100\n",
      "2427/2427 [==============================] - 16s 7ms/step - loss: 8.9295e-04\n",
      "Epoch 85/100\n",
      "2427/2427 [==============================] - 16s 7ms/step - loss: 8.4799e-04\n",
      "Epoch 86/100\n",
      "2427/2427 [==============================] - 16s 7ms/step - loss: 9.0359e-04\n",
      "Epoch 87/100\n",
      "2427/2427 [==============================] - 16s 7ms/step - loss: 9.3740e-04\n",
      "Epoch 88/100\n",
      "2427/2427 [==============================] - 16s 7ms/step - loss: 9.1615e-04\n",
      "Epoch 89/100\n",
      "2427/2427 [==============================] - 16s 7ms/step - loss: 9.2048e-04\n",
      "Epoch 90/100\n",
      "2427/2427 [==============================] - 16s 7ms/step - loss: 9.6315e-04\n",
      "Epoch 91/100\n",
      "2427/2427 [==============================] - 17s 7ms/step - loss: 8.4038e-04\n",
      "Epoch 92/100\n"
     ]
    },
    {
     "name": "stdout",
     "output_type": "stream",
     "text": [
      "2427/2427 [==============================] - 16s 7ms/step - loss: 9.3259e-04\n",
      "Epoch 93/100\n",
      "2427/2427 [==============================] - 16s 7ms/step - loss: 9.0302e-04\n",
      "Epoch 94/100\n",
      "2427/2427 [==============================] - 16s 7ms/step - loss: 9.3505e-04\n",
      "Epoch 95/100\n",
      "2427/2427 [==============================] - 16s 7ms/step - loss: 8.8768e-04\n",
      "Epoch 96/100\n",
      "2427/2427 [==============================] - 16s 7ms/step - loss: 9.2653e-04\n",
      "Epoch 97/100\n",
      "2427/2427 [==============================] - 16s 7ms/step - loss: 9.5691e-04\n",
      "Epoch 98/100\n",
      "2427/2427 [==============================] - 16s 7ms/step - loss: 9.2202e-04\n",
      "Epoch 99/100\n",
      "2427/2427 [==============================] - 16s 7ms/step - loss: 8.9981e-04\n",
      "Epoch 100/100\n",
      "2427/2427 [==============================] - 16s 7ms/step - loss: 8.6437e-04\n"
     ]
    },
    {
     "data": {
      "text/plain": [
       "<keras.callbacks.History at 0x7fc63cdea710>"
      ]
     },
     "execution_count": 26,
     "metadata": {},
     "output_type": "execute_result"
    }
   ],
   "source": [
    "# Fitting the RNN to the Training set\n",
    "regressor.fit(X_train, y_train, epochs = 100, batch_size = 32)"
   ]
  },
  {
   "cell_type": "markdown",
   "metadata": {},
   "source": [
    "### Computing Predictions"
   ]
  },
  {
   "cell_type": "code",
   "execution_count": 27,
   "metadata": {},
   "outputs": [
    {
     "data": {
      "text/html": [
       "<div>\n",
       "<style scoped>\n",
       "    .dataframe tbody tr th:only-of-type {\n",
       "        vertical-align: middle;\n",
       "    }\n",
       "\n",
       "    .dataframe tbody tr th {\n",
       "        vertical-align: top;\n",
       "    }\n",
       "\n",
       "    .dataframe thead th {\n",
       "        text-align: right;\n",
       "    }\n",
       "</style>\n",
       "<table border=\"1\" class=\"dataframe\">\n",
       "  <thead>\n",
       "    <tr style=\"text-align: right;\">\n",
       "      <th></th>\n",
       "      <th>Date</th>\n",
       "      <th>Open</th>\n",
       "      <th>High</th>\n",
       "      <th>Low</th>\n",
       "      <th>Close</th>\n",
       "      <th>Adj Close</th>\n",
       "      <th>Volume</th>\n",
       "    </tr>\n",
       "  </thead>\n",
       "  <tbody>\n",
       "    <tr>\n",
       "      <td>0</td>\n",
       "      <td>2019-07-31</td>\n",
       "      <td>149.699997</td>\n",
       "      <td>150.179993</td>\n",
       "      <td>146.389999</td>\n",
       "      <td>148.240005</td>\n",
       "      <td>146.513687</td>\n",
       "      <td>3722900</td>\n",
       "    </tr>\n",
       "    <tr>\n",
       "      <td>1</td>\n",
       "      <td>2019-08-01</td>\n",
       "      <td>148.899994</td>\n",
       "      <td>152.820007</td>\n",
       "      <td>148.500000</td>\n",
       "      <td>150.320007</td>\n",
       "      <td>148.569458</td>\n",
       "      <td>6344000</td>\n",
       "    </tr>\n",
       "    <tr>\n",
       "      <td>2</td>\n",
       "      <td>2019-08-02</td>\n",
       "      <td>149.029999</td>\n",
       "      <td>152.949997</td>\n",
       "      <td>145.589996</td>\n",
       "      <td>147.250000</td>\n",
       "      <td>145.535202</td>\n",
       "      <td>8101700</td>\n",
       "    </tr>\n",
       "    <tr>\n",
       "      <td>3</td>\n",
       "      <td>2019-08-05</td>\n",
       "      <td>144.979996</td>\n",
       "      <td>145.100006</td>\n",
       "      <td>139.149994</td>\n",
       "      <td>140.759995</td>\n",
       "      <td>139.120789</td>\n",
       "      <td>7114900</td>\n",
       "    </tr>\n",
       "    <tr>\n",
       "      <td>4</td>\n",
       "      <td>2019-08-06</td>\n",
       "      <td>142.029999</td>\n",
       "      <td>142.470001</td>\n",
       "      <td>139.309998</td>\n",
       "      <td>140.729996</td>\n",
       "      <td>139.091141</td>\n",
       "      <td>5070700</td>\n",
       "    </tr>\n",
       "    <tr>\n",
       "      <td>5</td>\n",
       "      <td>2019-08-07</td>\n",
       "      <td>138.740005</td>\n",
       "      <td>139.580002</td>\n",
       "      <td>136.410004</td>\n",
       "      <td>139.110001</td>\n",
       "      <td>137.490005</td>\n",
       "      <td>5931900</td>\n",
       "    </tr>\n",
       "    <tr>\n",
       "      <td>6</td>\n",
       "      <td>2019-08-08</td>\n",
       "      <td>138.449997</td>\n",
       "      <td>140.419998</td>\n",
       "      <td>137.759995</td>\n",
       "      <td>140.100006</td>\n",
       "      <td>140.100006</td>\n",
       "      <td>5261100</td>\n",
       "    </tr>\n",
       "    <tr>\n",
       "      <td>7</td>\n",
       "      <td>2019-08-09</td>\n",
       "      <td>139.270004</td>\n",
       "      <td>139.309998</td>\n",
       "      <td>135.350006</td>\n",
       "      <td>136.130005</td>\n",
       "      <td>136.130005</td>\n",
       "      <td>5244600</td>\n",
       "    </tr>\n",
       "    <tr>\n",
       "      <td>8</td>\n",
       "      <td>2019-08-12</td>\n",
       "      <td>135.660004</td>\n",
       "      <td>135.869995</td>\n",
       "      <td>133.179993</td>\n",
       "      <td>134.119995</td>\n",
       "      <td>134.119995</td>\n",
       "      <td>3895600</td>\n",
       "    </tr>\n",
       "    <tr>\n",
       "      <td>9</td>\n",
       "      <td>2019-08-13</td>\n",
       "      <td>133.800003</td>\n",
       "      <td>136.570007</td>\n",
       "      <td>132.809998</td>\n",
       "      <td>135.789993</td>\n",
       "      <td>135.789993</td>\n",
       "      <td>4522100</td>\n",
       "    </tr>\n",
       "    <tr>\n",
       "      <td>10</td>\n",
       "      <td>2019-08-14</td>\n",
       "      <td>133.910004</td>\n",
       "      <td>134.160004</td>\n",
       "      <td>130.979996</td>\n",
       "      <td>131.250000</td>\n",
       "      <td>131.250000</td>\n",
       "      <td>5114200</td>\n",
       "    </tr>\n",
       "    <tr>\n",
       "      <td>11</td>\n",
       "      <td>2019-08-15</td>\n",
       "      <td>131.220001</td>\n",
       "      <td>132.369995</td>\n",
       "      <td>130.250000</td>\n",
       "      <td>131.919998</td>\n",
       "      <td>131.919998</td>\n",
       "      <td>3738900</td>\n",
       "    </tr>\n",
       "    <tr>\n",
       "      <td>12</td>\n",
       "      <td>2019-08-16</td>\n",
       "      <td>133.039993</td>\n",
       "      <td>134.589996</td>\n",
       "      <td>132.949997</td>\n",
       "      <td>133.759995</td>\n",
       "      <td>133.759995</td>\n",
       "      <td>3012000</td>\n",
       "    </tr>\n",
       "    <tr>\n",
       "      <td>13</td>\n",
       "      <td>2019-08-19</td>\n",
       "      <td>134.880005</td>\n",
       "      <td>136.330002</td>\n",
       "      <td>134.880005</td>\n",
       "      <td>135.039993</td>\n",
       "      <td>135.039993</td>\n",
       "      <td>3165100</td>\n",
       "    </tr>\n",
       "    <tr>\n",
       "      <td>14</td>\n",
       "      <td>2019-08-20</td>\n",
       "      <td>135.240005</td>\n",
       "      <td>135.279999</td>\n",
       "      <td>132.809998</td>\n",
       "      <td>133.000000</td>\n",
       "      <td>133.000000</td>\n",
       "      <td>3018600</td>\n",
       "    </tr>\n",
       "    <tr>\n",
       "      <td>15</td>\n",
       "      <td>2019-08-21</td>\n",
       "      <td>134.960007</td>\n",
       "      <td>135.940002</td>\n",
       "      <td>133.800003</td>\n",
       "      <td>134.250000</td>\n",
       "      <td>134.250000</td>\n",
       "      <td>2805700</td>\n",
       "    </tr>\n",
       "    <tr>\n",
       "      <td>16</td>\n",
       "      <td>2019-08-22</td>\n",
       "      <td>134.690002</td>\n",
       "      <td>135.679993</td>\n",
       "      <td>133.809998</td>\n",
       "      <td>134.320007</td>\n",
       "      <td>134.320007</td>\n",
       "      <td>2694900</td>\n",
       "    </tr>\n",
       "    <tr>\n",
       "      <td>17</td>\n",
       "      <td>2019-08-23</td>\n",
       "      <td>133.630005</td>\n",
       "      <td>134.259995</td>\n",
       "      <td>128.830002</td>\n",
       "      <td>129.570007</td>\n",
       "      <td>129.570007</td>\n",
       "      <td>4818400</td>\n",
       "    </tr>\n",
       "    <tr>\n",
       "      <td>18</td>\n",
       "      <td>2019-08-26</td>\n",
       "      <td>131.050003</td>\n",
       "      <td>131.300003</td>\n",
       "      <td>129.160004</td>\n",
       "      <td>129.990005</td>\n",
       "      <td>129.990005</td>\n",
       "      <td>2833900</td>\n",
       "    </tr>\n",
       "    <tr>\n",
       "      <td>19</td>\n",
       "      <td>2019-08-27</td>\n",
       "      <td>131.199997</td>\n",
       "      <td>131.699997</td>\n",
       "      <td>130.309998</td>\n",
       "      <td>131.169998</td>\n",
       "      <td>131.169998</td>\n",
       "      <td>4728000</td>\n",
       "    </tr>\n",
       "    <tr>\n",
       "      <td>20</td>\n",
       "      <td>2019-08-28</td>\n",
       "      <td>130.440002</td>\n",
       "      <td>132.889999</td>\n",
       "      <td>130.039993</td>\n",
       "      <td>132.759995</td>\n",
       "      <td>132.759995</td>\n",
       "      <td>2713600</td>\n",
       "    </tr>\n",
       "    <tr>\n",
       "      <td>21</td>\n",
       "      <td>2019-08-29</td>\n",
       "      <td>134.179993</td>\n",
       "      <td>135.690002</td>\n",
       "      <td>134.039993</td>\n",
       "      <td>134.880005</td>\n",
       "      <td>134.880005</td>\n",
       "      <td>2971800</td>\n",
       "    </tr>\n",
       "    <tr>\n",
       "      <td>22</td>\n",
       "      <td>2019-08-30</td>\n",
       "      <td>135.580002</td>\n",
       "      <td>136.070007</td>\n",
       "      <td>134.360001</td>\n",
       "      <td>135.529999</td>\n",
       "      <td>135.529999</td>\n",
       "      <td>2960600</td>\n",
       "    </tr>\n",
       "  </tbody>\n",
       "</table>\n",
       "</div>"
      ],
      "text/plain": [
       "          Date        Open        High         Low       Close   Adj Close  \\\n",
       "0   2019-07-31  149.699997  150.179993  146.389999  148.240005  146.513687   \n",
       "1   2019-08-01  148.899994  152.820007  148.500000  150.320007  148.569458   \n",
       "2   2019-08-02  149.029999  152.949997  145.589996  147.250000  145.535202   \n",
       "3   2019-08-05  144.979996  145.100006  139.149994  140.759995  139.120789   \n",
       "4   2019-08-06  142.029999  142.470001  139.309998  140.729996  139.091141   \n",
       "5   2019-08-07  138.740005  139.580002  136.410004  139.110001  137.490005   \n",
       "6   2019-08-08  138.449997  140.419998  137.759995  140.100006  140.100006   \n",
       "7   2019-08-09  139.270004  139.309998  135.350006  136.130005  136.130005   \n",
       "8   2019-08-12  135.660004  135.869995  133.179993  134.119995  134.119995   \n",
       "9   2019-08-13  133.800003  136.570007  132.809998  135.789993  135.789993   \n",
       "10  2019-08-14  133.910004  134.160004  130.979996  131.250000  131.250000   \n",
       "11  2019-08-15  131.220001  132.369995  130.250000  131.919998  131.919998   \n",
       "12  2019-08-16  133.039993  134.589996  132.949997  133.759995  133.759995   \n",
       "13  2019-08-19  134.880005  136.330002  134.880005  135.039993  135.039993   \n",
       "14  2019-08-20  135.240005  135.279999  132.809998  133.000000  133.000000   \n",
       "15  2019-08-21  134.960007  135.940002  133.800003  134.250000  134.250000   \n",
       "16  2019-08-22  134.690002  135.679993  133.809998  134.320007  134.320007   \n",
       "17  2019-08-23  133.630005  134.259995  128.830002  129.570007  129.570007   \n",
       "18  2019-08-26  131.050003  131.300003  129.160004  129.990005  129.990005   \n",
       "19  2019-08-27  131.199997  131.699997  130.309998  131.169998  131.169998   \n",
       "20  2019-08-28  130.440002  132.889999  130.039993  132.759995  132.759995   \n",
       "21  2019-08-29  134.179993  135.690002  134.039993  134.880005  134.880005   \n",
       "22  2019-08-30  135.580002  136.070007  134.360001  135.529999  135.529999   \n",
       "\n",
       "     Volume  \n",
       "0   3722900  \n",
       "1   6344000  \n",
       "2   8101700  \n",
       "3   7114900  \n",
       "4   5070700  \n",
       "5   5931900  \n",
       "6   5261100  \n",
       "7   5244600  \n",
       "8   3895600  \n",
       "9   4522100  \n",
       "10  5114200  \n",
       "11  3738900  \n",
       "12  3012000  \n",
       "13  3165100  \n",
       "14  3018600  \n",
       "15  2805700  \n",
       "16  2694900  \n",
       "17  4818400  \n",
       "18  2833900  \n",
       "19  4728000  \n",
       "20  2713600  \n",
       "21  2971800  \n",
       "22  2960600  "
      ]
     },
     "execution_count": 27,
     "metadata": {},
     "output_type": "execute_result"
    }
   ],
   "source": [
    "# Getting the real stock price\n",
    "\n",
    "dataset_test = pd.read_csv('Test_Data.csv')\n",
    "dataset_test"
   ]
  },
  {
   "cell_type": "code",
   "execution_count": 28,
   "metadata": {},
   "outputs": [
    {
     "data": {
      "text/plain": [
       "23"
      ]
     },
     "execution_count": 28,
     "metadata": {},
     "output_type": "execute_result"
    }
   ],
   "source": [
    "real_stock_price = dataset_test.iloc[:, 1:2].values\n",
    "real_stock_price.size"
   ]
  },
  {
   "cell_type": "code",
   "execution_count": 29,
   "metadata": {},
   "outputs": [
    {
     "data": {
      "text/plain": [
       "array([[149.699997],\n",
       "       [148.899994],\n",
       "       [149.029999],\n",
       "       [144.979996],\n",
       "       [142.029999],\n",
       "       [138.740005],\n",
       "       [138.449997],\n",
       "       [139.270004],\n",
       "       [135.660004],\n",
       "       [133.800003],\n",
       "       [133.910004],\n",
       "       [131.220001],\n",
       "       [133.039993],\n",
       "       [134.880005],\n",
       "       [135.240005],\n",
       "       [134.960007],\n",
       "       [134.690002],\n",
       "       [133.630005],\n",
       "       [131.050003],\n",
       "       [131.199997],\n",
       "       [130.440002],\n",
       "       [134.179993],\n",
       "       [135.580002]])"
      ]
     },
     "execution_count": 29,
     "metadata": {},
     "output_type": "execute_result"
    }
   ],
   "source": [
    "real_stock_price"
   ]
  },
  {
   "cell_type": "code",
   "execution_count": 30,
   "metadata": {},
   "outputs": [],
   "source": [
    "# Getting the predicted stock price of 2019 August\n",
    "\n",
    "# axis = 0 means concatenate the lines (i.e. vertical axis)\n",
    "dataset_total = pd.concat((dataset_train['Open'], dataset_test['Open']), axis = 0) "
   ]
  },
  {
   "cell_type": "code",
   "execution_count": 31,
   "metadata": {},
   "outputs": [
    {
     "data": {
      "text/plain": [
       "2540"
      ]
     },
     "execution_count": 31,
     "metadata": {},
     "output_type": "execute_result"
    }
   ],
   "source": [
    "dataset_total.size"
   ]
  },
  {
   "cell_type": "code",
   "execution_count": 32,
   "metadata": {},
   "outputs": [],
   "source": [
    "inputs = dataset_total[len(dataset_total) - len(dataset_test) - 90:].values"
   ]
  },
  {
   "cell_type": "code",
   "execution_count": 33,
   "metadata": {},
   "outputs": [
    {
     "data": {
      "text/plain": [
       "113"
      ]
     },
     "execution_count": 33,
     "metadata": {},
     "output_type": "execute_result"
    }
   ],
   "source": [
    "inputs.size"
   ]
  },
  {
   "cell_type": "code",
   "execution_count": 34,
   "metadata": {},
   "outputs": [],
   "source": [
    "# we did not use iloc from panda so lets reshape the numpy array for \n",
    "# compatibility: i.e. all the values from input lines to be stacked in one \n",
    "# column. The -1 means that the numpy has no knowledge of how the \n",
    "# values were stored in lines. The 1 means we want to them in one \n",
    "# column.\n",
    "\n",
    "inputs = inputs.reshape(-1,1) \n",
    "\n",
    "# apply the feature scaler\n",
    "inputs = sc.transform(inputs)"
   ]
  },
  {
   "cell_type": "code",
   "execution_count": 35,
   "metadata": {},
   "outputs": [],
   "source": [
    "# Getting the predicted stock price of 2019 August\n",
    "X_test = []"
   ]
  },
  {
   "cell_type": "code",
   "execution_count": 36,
   "metadata": {},
   "outputs": [],
   "source": [
    "# the first 90 from inputs are from training set; start \n",
    "# from 90 and get the extra 20, i.e. up to 110\n",
    "for i in range(90, 111): \n",
    "    X_test.append(inputs[i-90:i, 0])"
   ]
  },
  {
   "cell_type": "code",
   "execution_count": 37,
   "metadata": {},
   "outputs": [],
   "source": [
    "X_test = np.array(X_test) # not 3D structure yet"
   ]
  },
  {
   "cell_type": "code",
   "execution_count": 38,
   "metadata": {},
   "outputs": [],
   "source": [
    "# create a 3D structure\n",
    "X_test = np.reshape(X_test, (X_test.shape[0], X_test.shape[1], 1))"
   ]
  },
  {
   "cell_type": "code",
   "execution_count": 39,
   "metadata": {},
   "outputs": [],
   "source": [
    "predicted_stock_price = regressor.predict(X_test)"
   ]
  },
  {
   "cell_type": "code",
   "execution_count": 40,
   "metadata": {},
   "outputs": [
    {
     "data": {
      "text/plain": [
       "21"
      ]
     },
     "execution_count": 40,
     "metadata": {},
     "output_type": "execute_result"
    }
   ],
   "source": [
    "# need to inverse the scaling to get meaningful predicted stock price # outputs\n",
    "predicted_stock_price = sc.inverse_transform(predicted_stock_price) \n",
    "predicted_stock_price.size"
   ]
  },
  {
   "cell_type": "markdown",
   "metadata": {},
   "source": [
    "### Result Visualization"
   ]
  },
  {
   "cell_type": "code",
   "execution_count": 41,
   "metadata": {},
   "outputs": [
    {
     "data": {
      "image/png": "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\n",
      "text/plain": [
       "<Figure size 432x288 with 1 Axes>"
      ]
     },
     "metadata": {
      "needs_background": "light"
     },
     "output_type": "display_data"
    }
   ],
   "source": [
    "# Visualising the results\n",
    "\n",
    "plt.plot(real_stock_price, color = 'red', label = 'Real IBM Stock Price')\n",
    "\n",
    "plt.plot(predicted_stock_price, color = 'blue', label = 'Predicted IBM Stock Price')\n",
    "\n",
    "plt.title('IBM Stock Price Prediction')\n",
    "plt.xlabel('Time')\n",
    "plt.ylabel('IBM Stock Price')\n",
    "plt.legend()\n",
    "\n",
    "plt.show()"
   ]
  },
  {
   "cell_type": "markdown",
   "metadata": {},
   "source": [
    "### Compute the RMSE"
   ]
  },
  {
   "cell_type": "code",
   "execution_count": 42,
   "metadata": {},
   "outputs": [],
   "source": [
    "#import the libraries\n",
    "import math\n",
    "from sklearn.metrics import mean_squared_error"
   ]
  },
  {
   "cell_type": "code",
   "execution_count": 43,
   "metadata": {},
   "outputs": [
    {
     "data": {
      "text/plain": [
       "1.9410480118201539"
      ]
     },
     "execution_count": 43,
     "metadata": {},
     "output_type": "execute_result"
    }
   ],
   "source": [
    "rmse = math.sqrt( mean_squared_error( real_stock_price[0:21,:], predicted_stock_price))\n",
    "rmse"
   ]
  },
  {
   "cell_type": "code",
   "execution_count": null,
   "metadata": {},
   "outputs": [],
   "source": []
  }
 ],
 "metadata": {
  "kernelspec": {
   "display_name": "Python 3",
   "language": "python",
   "name": "python3"
  },
  "language_info": {
   "codemirror_mode": {
    "name": "ipython",
    "version": 3
   },
   "file_extension": ".py",
   "mimetype": "text/x-python",
   "name": "python",
   "nbconvert_exporter": "python",
   "pygments_lexer": "ipython3",
   "version": "3.7.3"
  }
 },
 "nbformat": 4,
 "nbformat_minor": 2
}
