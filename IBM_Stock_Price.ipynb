{
 "cells": [
  {
   "cell_type": "markdown",
   "metadata": {},
   "source": [
    "# IBM Stock Price\n",
    "\n",
    "### Final Assignement\n",
    "\n",
    "<br/> Benas Maruškevičius\n",
    "<br/> email: benas.ma8730@go.kauko.lt"
   ]
  },
  {
   "cell_type": "markdown",
   "metadata": {},
   "source": [
    "### Import libraries\n",
    "\n",
    "We need 3 main libraries:\n",
    "\n",
    "- [Numpy](http://www.numpy.org): it is the fundamental package for scientific computing with Python. It contains among other things a powerful N-dimensional array object that can be used as an efficient multi-dimensional container of generic data. Arbitrary data-types can be defined.\n",
    "- [matplotlib](https://matplotlib.org):  it is a Python 2D plotting library which produces publication quality figures in a variety of hardcopy formats and interactive environments across platforms.\n",
    "- [pandas](https://pandas.pydata.org): is a software library written for the Python programming language for data manipulation and analysis. In particular, it offers data structures and operations for manipulating numerical tables and time series."
   ]
  },
  {
   "cell_type": "code",
   "execution_count": 63,
   "metadata": {},
   "outputs": [],
   "source": [
    "# importing the libraries\n",
    "import numpy as np\n",
    "import matplotlib.pyplot as plt\n",
    "import pandas as pd"
   ]
  },
  {
   "cell_type": "markdown",
   "metadata": {},
   "source": [
    "### Import the dataset"
   ]
  },
  {
   "cell_type": "markdown",
   "metadata": {},
   "source": [
    "Dataset description: the open high, low and close values of the Google Stock from 2012 to 2016. [Relevant code here](https://github.com/pdway53/Predict_Google_Stock_Price_RNN)"
   ]
  },
  {
   "cell_type": "code",
   "execution_count": 64,
   "metadata": {},
   "outputs": [],
   "source": [
    "#importing the dataset\n",
    "dataset_train = pd.read_csv('Training_Data.csv')"
   ]
  },
  {
   "cell_type": "code",
   "execution_count": 65,
   "metadata": {},
   "outputs": [
    {
     "data": {
      "text/html": [
       "<div>\n",
       "<style scoped>\n",
       "    .dataframe tbody tr th:only-of-type {\n",
       "        vertical-align: middle;\n",
       "    }\n",
       "\n",
       "    .dataframe tbody tr th {\n",
       "        vertical-align: top;\n",
       "    }\n",
       "\n",
       "    .dataframe thead th {\n",
       "        text-align: right;\n",
       "    }\n",
       "</style>\n",
       "<table border=\"1\" class=\"dataframe\">\n",
       "  <thead>\n",
       "    <tr style=\"text-align: right;\">\n",
       "      <th></th>\n",
       "      <th>Date</th>\n",
       "      <th>Open</th>\n",
       "      <th>High</th>\n",
       "      <th>Low</th>\n",
       "      <th>Close</th>\n",
       "      <th>Adj Close</th>\n",
       "      <th>Volume</th>\n",
       "    </tr>\n",
       "  </thead>\n",
       "  <tbody>\n",
       "    <tr>\n",
       "      <td>0</td>\n",
       "      <td>2009-07-30</td>\n",
       "      <td>118.000000</td>\n",
       "      <td>119.370003</td>\n",
       "      <td>117.669998</td>\n",
       "      <td>117.860001</td>\n",
       "      <td>86.538223</td>\n",
       "      <td>6803100</td>\n",
       "    </tr>\n",
       "    <tr>\n",
       "      <td>1</td>\n",
       "      <td>2009-07-31</td>\n",
       "      <td>117.559998</td>\n",
       "      <td>118.989998</td>\n",
       "      <td>117.559998</td>\n",
       "      <td>117.930000</td>\n",
       "      <td>86.589630</td>\n",
       "      <td>5329600</td>\n",
       "    </tr>\n",
       "    <tr>\n",
       "      <td>2</td>\n",
       "      <td>2009-08-03</td>\n",
       "      <td>118.879997</td>\n",
       "      <td>119.959999</td>\n",
       "      <td>118.690002</td>\n",
       "      <td>119.919998</td>\n",
       "      <td>88.050774</td>\n",
       "      <td>6108200</td>\n",
       "    </tr>\n",
       "    <tr>\n",
       "      <td>3</td>\n",
       "      <td>2009-08-04</td>\n",
       "      <td>119.169998</td>\n",
       "      <td>119.800003</td>\n",
       "      <td>119.019997</td>\n",
       "      <td>119.599998</td>\n",
       "      <td>87.815811</td>\n",
       "      <td>4993500</td>\n",
       "    </tr>\n",
       "    <tr>\n",
       "      <td>4</td>\n",
       "      <td>2009-08-05</td>\n",
       "      <td>118.519997</td>\n",
       "      <td>119.000000</td>\n",
       "      <td>117.860001</td>\n",
       "      <td>118.470001</td>\n",
       "      <td>86.986099</td>\n",
       "      <td>5025800</td>\n",
       "    </tr>\n",
       "  </tbody>\n",
       "</table>\n",
       "</div>"
      ],
      "text/plain": [
       "         Date        Open        High         Low       Close  Adj Close  \\\n",
       "0  2009-07-30  118.000000  119.370003  117.669998  117.860001  86.538223   \n",
       "1  2009-07-31  117.559998  118.989998  117.559998  117.930000  86.589630   \n",
       "2  2009-08-03  118.879997  119.959999  118.690002  119.919998  88.050774   \n",
       "3  2009-08-04  119.169998  119.800003  119.019997  119.599998  87.815811   \n",
       "4  2009-08-05  118.519997  119.000000  117.860001  118.470001  86.986099   \n",
       "\n",
       "    Volume  \n",
       "0  6803100  \n",
       "1  5329600  \n",
       "2  6108200  \n",
       "3  4993500  \n",
       "4  5025800  "
      ]
     },
     "execution_count": 65,
     "metadata": {},
     "output_type": "execute_result"
    }
   ],
   "source": [
    "dataset_train.head()"
   ]
  },
  {
   "cell_type": "code",
   "execution_count": 66,
   "metadata": {},
   "outputs": [],
   "source": [
    "# Create a subtable of relevant entries (open values)\n",
    "training_set = dataset_train.iloc[:, 1:2].values "
   ]
  },
  {
   "cell_type": "code",
   "execution_count": 67,
   "metadata": {},
   "outputs": [
    {
     "data": {
      "text/plain": [
       "array([[118.      ],\n",
       "       [117.559998],\n",
       "       [118.879997],\n",
       "       ...,\n",
       "       [151.      ],\n",
       "       [151.110001],\n",
       "       [150.      ]])"
      ]
     },
     "execution_count": 67,
     "metadata": {},
     "output_type": "execute_result"
    }
   ],
   "source": [
    "training_set"
   ]
  },
  {
   "cell_type": "markdown",
   "metadata": {},
   "source": [
    "### Feature Scaling"
   ]
  },
  {
   "cell_type": "code",
   "execution_count": 68,
   "metadata": {},
   "outputs": [],
   "source": [
    "# Feature Scaling\n",
    "\n",
    "# import the MinMaxScaler\n",
    "from sklearn.preprocessing import MinMaxScaler"
   ]
  },
  {
   "cell_type": "code",
   "execution_count": 69,
   "metadata": {},
   "outputs": [],
   "source": [
    "# create a scaler instance to rescale all data to the range of 0.0 to 1.0 \n",
    "sc = MinMaxScaler(feature_range = (0, 1))"
   ]
  },
  {
   "cell_type": "code",
   "execution_count": 70,
   "metadata": {},
   "outputs": [],
   "source": [
    "# create the actual training set of scaled values\n",
    "training_set_scaled = sc.fit_transform(training_set)"
   ]
  },
  {
   "cell_type": "code",
   "execution_count": 71,
   "metadata": {},
   "outputs": [
    {
     "data": {
      "text/plain": [
       "array([[0.09312721],\n",
       "       [0.08902959],\n",
       "       [0.10132237],\n",
       "       ...,\n",
       "       [0.40044699],\n",
       "       [0.4014714 ],\n",
       "       [0.39113427]])"
      ]
     },
     "execution_count": 71,
     "metadata": {},
     "output_type": "execute_result"
    }
   ],
   "source": [
    "training_set_scaled"
   ]
  },
  {
   "cell_type": "markdown",
   "metadata": {},
   "source": [
    "### Splitting the training set to dependent and independent variables"
   ]
  },
  {
   "cell_type": "code",
   "execution_count": 72,
   "metadata": {},
   "outputs": [],
   "source": [
    "# Creating a data structure with 90 timesteps and 1 output\n",
    "\n",
    "# the 90 stock prices\n",
    "X_train = [] "
   ]
  },
  {
   "cell_type": "code",
   "execution_count": 73,
   "metadata": {},
   "outputs": [
    {
     "data": {
      "text/plain": [
       "(2517, 1)"
      ]
     },
     "execution_count": 73,
     "metadata": {},
     "output_type": "execute_result"
    }
   ],
   "source": [
    "training_set_scaled.shape"
   ]
  },
  {
   "cell_type": "code",
   "execution_count": 74,
   "metadata": {},
   "outputs": [],
   "source": [
    "# the stock price today\n",
    "y_train = [] "
   ]
  },
  {
   "cell_type": "code",
   "execution_count": 75,
   "metadata": {},
   "outputs": [],
   "source": [
    "# we start from day 90 because that is the first instance allowing us to \n",
    "# go back 90 days\n",
    "for i in range(90, 2517): \n",
    "    # 0 is the column ID, the only column in this case.    \n",
    "    # put the last 90 days values in one row of X_train\n",
    "    X_train.append(training_set_scaled[i-90:i, 0]) \n",
    "    y_train.append(training_set_scaled[i, 0])"
   ]
  },
  {
   "cell_type": "code",
   "execution_count": 76,
   "metadata": {},
   "outputs": [],
   "source": [
    "X_train, y_train = np.array(X_train), np.array(y_train)"
   ]
  },
  {
   "cell_type": "code",
   "execution_count": 77,
   "metadata": {},
   "outputs": [
    {
     "data": {
      "text/plain": [
       "array([[0.09312721, 0.08902959, 0.10132237, ..., 0.17992176, 0.18252931,\n",
       "        0.18997945],\n",
       "       [0.08902959, 0.10132237, 0.10402307, ..., 0.18252931, 0.18997945,\n",
       "        0.17582414],\n",
       "       [0.10132237, 0.10402307, 0.09796979, ..., 0.18997945, 0.17582414,\n",
       "        0.17666232],\n",
       "       ...,\n",
       "       [0.30694734, 0.3029428 , 0.28962567, ..., 0.39644259, 0.39225175,\n",
       "        0.38945805],\n",
       "       [0.3029428 , 0.28962567, 0.30704041, ..., 0.39225175, 0.38945805,\n",
       "        0.40044699],\n",
       "       [0.28962567, 0.30704041, 0.28925309, ..., 0.38945805, 0.40044699,\n",
       "        0.4014714 ]])"
      ]
     },
     "execution_count": 77,
     "metadata": {},
     "output_type": "execute_result"
    }
   ],
   "source": [
    "X_train"
   ]
  },
  {
   "cell_type": "markdown",
   "metadata": {},
   "source": [
    "### Reshaping the Matrix\n",
    "\n",
    "We need to add a new matrix dimension to accommodate the indicator (predictor). "
   ]
  },
  {
   "cell_type": "code",
   "execution_count": 78,
   "metadata": {},
   "outputs": [],
   "source": [
    "# Reshaping the data matrix, we retain the 2 original dimensions and add a third of depth=1\n",
    "X_train = np.reshape(X_train, (X_train.shape[0], X_train.shape[1], 1))"
   ]
  },
  {
   "cell_type": "markdown",
   "metadata": {},
   "source": [
    "## Building the RNN"
   ]
  },
  {
   "cell_type": "code",
   "execution_count": 79,
   "metadata": {},
   "outputs": [],
   "source": [
    "# Importing the Keras libraries and packages\n",
    "from keras.models import Sequential\n",
    "from keras.layers import Dense\n",
    "from keras.layers import LSTM\n",
    "from keras.layers import Dropout"
   ]
  },
  {
   "cell_type": "code",
   "execution_count": 80,
   "metadata": {},
   "outputs": [],
   "source": [
    "# Initialising the RNN as a sequence of layers\n",
    "regressor = Sequential()"
   ]
  },
  {
   "cell_type": "markdown",
   "metadata": {},
   "source": [
    "### Add First Layer"
   ]
  },
  {
   "cell_type": "code",
   "execution_count": 81,
   "metadata": {},
   "outputs": [],
   "source": [
    "# Adding the input layer and the LSTM layer\n",
    "regressor.add(LSTM(units = 50, return_sequences = True, input_shape =  (X_train.shape[1], 1)))"
   ]
  },
  {
   "cell_type": "code",
   "execution_count": 82,
   "metadata": {},
   "outputs": [],
   "source": [
    "# the argument is the dropout rate to ignore in the layers (20%)\n",
    "regressor.add(Dropout(0.2))\n"
   ]
  },
  {
   "cell_type": "markdown",
   "metadata": {},
   "source": [
    "### Add More Layers"
   ]
  },
  {
   "cell_type": "code",
   "execution_count": 83,
   "metadata": {},
   "outputs": [],
   "source": [
    "# Adding a second LSTM layer and some Dropout regularisation\n",
    "regressor.add(LSTM(units = 50, return_sequences = True))\n",
    "regressor.add(Dropout(0.2))"
   ]
  },
  {
   "cell_type": "code",
   "execution_count": 84,
   "metadata": {},
   "outputs": [],
   "source": [
    "# Adding a third LSTM layer and some Dropout regularisation\n",
    "regressor.add(LSTM(units = 50, return_sequences = True))\n",
    "regressor.add(Dropout(0.2))"
   ]
  },
  {
   "cell_type": "code",
   "execution_count": 85,
   "metadata": {},
   "outputs": [],
   "source": [
    "# Adding a fourth LSTM layer and some Dropout regularisation\n",
    "regressor.add(LSTM(units = 50))\n",
    "regressor.add(Dropout(0.2))"
   ]
  },
  {
   "cell_type": "markdown",
   "metadata": {},
   "source": [
    "### Add Output Layer & Compile"
   ]
  },
  {
   "cell_type": "code",
   "execution_count": 86,
   "metadata": {},
   "outputs": [],
   "source": [
    "# Adding the output layer\n",
    "regressor.add(Dense(units = 1))"
   ]
  },
  {
   "cell_type": "code",
   "execution_count": 87,
   "metadata": {},
   "outputs": [],
   "source": [
    "# Compiling the RNN\n",
    "regressor.compile(optimizer = 'adam', loss = 'mean_squared_error')"
   ]
  },
  {
   "cell_type": "markdown",
   "metadata": {},
   "source": [
    "## Train and deploy the RNN"
   ]
  },
  {
   "cell_type": "markdown",
   "metadata": {},
   "source": [
    "### Fit the RNN to the Training set"
   ]
  },
  {
   "cell_type": "code",
   "execution_count": 88,
   "metadata": {
    "scrolled": true
   },
   "outputs": [
    {
     "name": "stdout",
     "output_type": "stream",
     "text": [
      "Epoch 1/100\n",
      "2427/2427 [==============================] - 19s 8ms/step - loss: 0.0328\n",
      "Epoch 2/100\n",
      "2427/2427 [==============================] - 17s 7ms/step - loss: 0.0064\n",
      "Epoch 3/100\n",
      "2427/2427 [==============================] - 17s 7ms/step - loss: 0.0056\n",
      "Epoch 4/100\n",
      "2427/2427 [==============================] - 17s 7ms/step - loss: 0.0048\n",
      "Epoch 5/100\n",
      "2427/2427 [==============================] - 17s 7ms/step - loss: 0.0050\n",
      "Epoch 6/100\n",
      "2427/2427 [==============================] - 17s 7ms/step - loss: 0.0042\n",
      "Epoch 7/100\n",
      "2427/2427 [==============================] - 17s 7ms/step - loss: 0.0041\n",
      "Epoch 8/100\n",
      "2427/2427 [==============================] - 17s 7ms/step - loss: 0.0042\n",
      "Epoch 9/100\n",
      "2427/2427 [==============================] - 17s 7ms/step - loss: 0.0043\n",
      "Epoch 10/100\n",
      "2427/2427 [==============================] - 17s 7ms/step - loss: 0.0036\n",
      "Epoch 11/100\n",
      "2427/2427 [==============================] - 17s 7ms/step - loss: 0.0040\n",
      "Epoch 12/100\n",
      "2427/2427 [==============================] - 17s 7ms/step - loss: 0.0036\n",
      "Epoch 13/100\n",
      "2427/2427 [==============================] - 17s 7ms/step - loss: 0.0033\n",
      "Epoch 14/100\n",
      "2427/2427 [==============================] - 17s 7ms/step - loss: 0.0030\n",
      "Epoch 15/100\n",
      "2427/2427 [==============================] - 17s 7ms/step - loss: 0.0031\n",
      "Epoch 16/100\n",
      "2427/2427 [==============================] - 18s 7ms/step - loss: 0.0033\n",
      "Epoch 17/100\n",
      "2427/2427 [==============================] - 17s 7ms/step - loss: 0.0031\n",
      "Epoch 18/100\n",
      "2427/2427 [==============================] - 17s 7ms/step - loss: 0.0031\n",
      "Epoch 19/100\n",
      "2427/2427 [==============================] - 17s 7ms/step - loss: 0.0027\n",
      "Epoch 20/100\n",
      "2427/2427 [==============================] - 17s 7ms/step - loss: 0.0026\n",
      "Epoch 21/100\n",
      "2427/2427 [==============================] - 17s 7ms/step - loss: 0.0028\n",
      "Epoch 22/100\n",
      "2427/2427 [==============================] - 17s 7ms/step - loss: 0.0025\n",
      "Epoch 23/100\n",
      "2427/2427 [==============================] - 17s 7ms/step - loss: 0.0024\n",
      "Epoch 24/100\n",
      "2427/2427 [==============================] - 17s 7ms/step - loss: 0.0025\n",
      "Epoch 25/100\n",
      "2427/2427 [==============================] - 17s 7ms/step - loss: 0.0027\n",
      "Epoch 26/100\n",
      "2427/2427 [==============================] - 17s 7ms/step - loss: 0.0023\n",
      "Epoch 27/100\n",
      "2427/2427 [==============================] - 17s 7ms/step - loss: 0.0022\n",
      "Epoch 28/100\n",
      "2427/2427 [==============================] - 18s 7ms/step - loss: 0.0022\n",
      "Epoch 29/100\n",
      "2427/2427 [==============================] - 17s 7ms/step - loss: 0.0021\n",
      "Epoch 30/100\n",
      "2427/2427 [==============================] - 19s 8ms/step - loss: 0.0020\n",
      "Epoch 31/100\n",
      "2427/2427 [==============================] - 17s 7ms/step - loss: 0.0022\n",
      "Epoch 32/100\n",
      "2427/2427 [==============================] - 17s 7ms/step - loss: 0.0019\n",
      "Epoch 33/100\n",
      "2427/2427 [==============================] - 17s 7ms/step - loss: 0.0019\n",
      "Epoch 34/100\n",
      "2427/2427 [==============================] - 17s 7ms/step - loss: 0.0019\n",
      "Epoch 35/100\n",
      "2427/2427 [==============================] - 17s 7ms/step - loss: 0.0018\n",
      "Epoch 36/100\n",
      "2427/2427 [==============================] - 17s 7ms/step - loss: 0.0019\n",
      "Epoch 37/100\n",
      "2427/2427 [==============================] - 17s 7ms/step - loss: 0.0018\n",
      "Epoch 38/100\n",
      "2427/2427 [==============================] - 17s 7ms/step - loss: 0.0017\n",
      "Epoch 39/100\n",
      "2427/2427 [==============================] - 17s 7ms/step - loss: 0.0017\n",
      "Epoch 40/100\n",
      "2427/2427 [==============================] - 17s 7ms/step - loss: 0.0017\n",
      "Epoch 41/100\n",
      "2427/2427 [==============================] - 17s 7ms/step - loss: 0.0016\n",
      "Epoch 42/100\n",
      "2427/2427 [==============================] - 17s 7ms/step - loss: 0.0015\n",
      "Epoch 43/100\n",
      "2427/2427 [==============================] - 17s 7ms/step - loss: 0.0014\n",
      "Epoch 44/100\n",
      "2427/2427 [==============================] - 17s 7ms/step - loss: 0.0014\n",
      "Epoch 45/100\n",
      "2427/2427 [==============================] - 17s 7ms/step - loss: 0.0014\n",
      "Epoch 46/100\n",
      "2427/2427 [==============================] - 17s 7ms/step - loss: 0.0013\n",
      "Epoch 47/100\n",
      "2427/2427 [==============================] - 17s 7ms/step - loss: 0.0014\n",
      "Epoch 48/100\n",
      "2427/2427 [==============================] - 18s 7ms/step - loss: 0.0013\n",
      "Epoch 49/100\n",
      "2427/2427 [==============================] - 17s 7ms/step - loss: 0.0012\n",
      "Epoch 50/100\n",
      "2427/2427 [==============================] - 17s 7ms/step - loss: 0.0013\n",
      "Epoch 51/100\n",
      "2427/2427 [==============================] - 17s 7ms/step - loss: 0.0013\n",
      "Epoch 52/100\n",
      "2427/2427 [==============================] - 17s 7ms/step - loss: 0.0012\n",
      "Epoch 53/100\n",
      "2427/2427 [==============================] - 17s 7ms/step - loss: 0.0012\n",
      "Epoch 54/100\n",
      "2427/2427 [==============================] - 17s 7ms/step - loss: 0.0012\n",
      "Epoch 55/100\n",
      "2427/2427 [==============================] - 17s 7ms/step - loss: 0.0012\n",
      "Epoch 56/100\n",
      "2427/2427 [==============================] - 17s 7ms/step - loss: 0.0011\n",
      "Epoch 57/100\n",
      "2427/2427 [==============================] - 17s 7ms/step - loss: 0.0011\n",
      "Epoch 58/100\n",
      "2427/2427 [==============================] - 17s 7ms/step - loss: 0.0011\n",
      "Epoch 59/100\n",
      "2427/2427 [==============================] - 17s 7ms/step - loss: 0.0011\n",
      "Epoch 60/100\n",
      "2427/2427 [==============================] - 17s 7ms/step - loss: 0.0011\n",
      "Epoch 61/100\n",
      "2427/2427 [==============================] - 17s 7ms/step - loss: 0.0011\n",
      "Epoch 62/100\n",
      "2427/2427 [==============================] - 17s 7ms/step - loss: 0.0011\n",
      "Epoch 63/100\n",
      "2427/2427 [==============================] - 17s 7ms/step - loss: 0.0011\n",
      "Epoch 64/100\n",
      "2427/2427 [==============================] - 17s 7ms/step - loss: 0.0011\n",
      "Epoch 65/100\n",
      "2427/2427 [==============================] - 17s 7ms/step - loss: 0.0010\n",
      "Epoch 66/100\n",
      "2427/2427 [==============================] - 17s 7ms/step - loss: 0.0010\n",
      "Epoch 67/100\n",
      "2427/2427 [==============================] - 18s 7ms/step - loss: 0.0011\n",
      "Epoch 68/100\n",
      "2427/2427 [==============================] - 17s 7ms/step - loss: 9.4146e-04\n",
      "Epoch 69/100\n",
      "2427/2427 [==============================] - 17s 7ms/step - loss: 9.5602e-04\n",
      "Epoch 70/100\n",
      "2427/2427 [==============================] - 17s 7ms/step - loss: 9.5632e-04\n",
      "Epoch 71/100\n",
      "2427/2427 [==============================] - 17s 7ms/step - loss: 9.3634e-04\n",
      "Epoch 72/100\n",
      "2427/2427 [==============================] - 17s 7ms/step - loss: 0.0010\n",
      "Epoch 73/100\n",
      "2427/2427 [==============================] - 17s 7ms/step - loss: 9.7838e-04\n",
      "Epoch 74/100\n",
      "2427/2427 [==============================] - 17s 7ms/step - loss: 9.9372e-04\n",
      "Epoch 75/100\n",
      "2427/2427 [==============================] - 17s 7ms/step - loss: 9.4663e-04\n",
      "Epoch 76/100\n",
      "2427/2427 [==============================] - 17s 7ms/step - loss: 9.9953e-04\n",
      "Epoch 77/100\n",
      "2427/2427 [==============================] - 17s 7ms/step - loss: 9.0921e-04\n",
      "Epoch 78/100\n",
      "2427/2427 [==============================] - 17s 7ms/step - loss: 9.3167e-04\n",
      "Epoch 79/100\n",
      "2427/2427 [==============================] - 18s 7ms/step - loss: 8.5600e-04\n",
      "Epoch 80/100\n",
      "2427/2427 [==============================] - 17s 7ms/step - loss: 9.4564e-04\n",
      "Epoch 81/100\n",
      "2427/2427 [==============================] - 17s 7ms/step - loss: 9.3164e-04\n",
      "Epoch 82/100\n",
      "2427/2427 [==============================] - 17s 7ms/step - loss: 0.0010\n",
      "Epoch 83/100\n",
      "2427/2427 [==============================] - 18s 7ms/step - loss: 9.1054e-04\n",
      "Epoch 84/100\n",
      "2427/2427 [==============================] - 17s 7ms/step - loss: 9.7594e-04\n",
      "Epoch 85/100\n",
      "2427/2427 [==============================] - 16s 7ms/step - loss: 8.8185e-04\n",
      "Epoch 86/100\n",
      "2427/2427 [==============================] - 16s 7ms/step - loss: 9.0961e-04\n",
      "Epoch 87/100\n",
      "2427/2427 [==============================] - 16s 7ms/step - loss: 9.0130e-04\n",
      "Epoch 88/100\n",
      "2427/2427 [==============================] - 17s 7ms/step - loss: 8.5670e-04\n",
      "Epoch 89/100\n",
      "2427/2427 [==============================] - 17s 7ms/step - loss: 9.4382e-04\n",
      "Epoch 90/100\n",
      "2427/2427 [==============================] - 17s 7ms/step - loss: 8.7576e-04\n",
      "Epoch 91/100\n",
      "2427/2427 [==============================] - 17s 7ms/step - loss: 9.3448e-04\n",
      "Epoch 92/100\n",
      "2427/2427 [==============================] - 17s 7ms/step - loss: 0.0010\n",
      "Epoch 93/100\n",
      "2427/2427 [==============================] - 17s 7ms/step - loss: 8.8894e-04\n",
      "Epoch 94/100\n",
      "2427/2427 [==============================] - 17s 7ms/step - loss: 8.4222e-04\n",
      "Epoch 95/100\n"
     ]
    },
    {
     "name": "stdout",
     "output_type": "stream",
     "text": [
      "2427/2427 [==============================] - 17s 7ms/step - loss: 8.6506e-04\n",
      "Epoch 96/100\n",
      "2427/2427 [==============================] - 17s 7ms/step - loss: 9.0367e-04\n",
      "Epoch 97/100\n",
      "2427/2427 [==============================] - 17s 7ms/step - loss: 8.5505e-04\n",
      "Epoch 98/100\n",
      "2427/2427 [==============================] - 17s 7ms/step - loss: 9.1196e-04\n",
      "Epoch 99/100\n",
      "2427/2427 [==============================] - 17s 7ms/step - loss: 9.2759e-04\n",
      "Epoch 100/100\n",
      "2427/2427 [==============================] - 17s 7ms/step - loss: 8.9241e-04\n"
     ]
    },
    {
     "data": {
      "text/plain": [
       "<keras.callbacks.History at 0x7fcd30e234a8>"
      ]
     },
     "execution_count": 88,
     "metadata": {},
     "output_type": "execute_result"
    }
   ],
   "source": [
    "# Fitting the RNN to the Training set\n",
    "regressor.fit(X_train, y_train, epochs = 100, batch_size = 32)"
   ]
  },
  {
   "cell_type": "markdown",
   "metadata": {},
   "source": [
    "### Computing Predictions"
   ]
  },
  {
   "cell_type": "code",
   "execution_count": 89,
   "metadata": {},
   "outputs": [
    {
     "data": {
      "text/html": [
       "<div>\n",
       "<style scoped>\n",
       "    .dataframe tbody tr th:only-of-type {\n",
       "        vertical-align: middle;\n",
       "    }\n",
       "\n",
       "    .dataframe tbody tr th {\n",
       "        vertical-align: top;\n",
       "    }\n",
       "\n",
       "    .dataframe thead th {\n",
       "        text-align: right;\n",
       "    }\n",
       "</style>\n",
       "<table border=\"1\" class=\"dataframe\">\n",
       "  <thead>\n",
       "    <tr style=\"text-align: right;\">\n",
       "      <th></th>\n",
       "      <th>Date</th>\n",
       "      <th>Open</th>\n",
       "      <th>High</th>\n",
       "      <th>Low</th>\n",
       "      <th>Close</th>\n",
       "      <th>Adj Close</th>\n",
       "      <th>Volume</th>\n",
       "    </tr>\n",
       "  </thead>\n",
       "  <tbody>\n",
       "    <tr>\n",
       "      <td>0</td>\n",
       "      <td>2019-07-31</td>\n",
       "      <td>149.699997</td>\n",
       "      <td>150.179993</td>\n",
       "      <td>146.389999</td>\n",
       "      <td>148.240005</td>\n",
       "      <td>146.513687</td>\n",
       "      <td>3722900</td>\n",
       "    </tr>\n",
       "    <tr>\n",
       "      <td>1</td>\n",
       "      <td>2019-08-01</td>\n",
       "      <td>148.899994</td>\n",
       "      <td>152.820007</td>\n",
       "      <td>148.500000</td>\n",
       "      <td>150.320007</td>\n",
       "      <td>148.569458</td>\n",
       "      <td>6344000</td>\n",
       "    </tr>\n",
       "    <tr>\n",
       "      <td>2</td>\n",
       "      <td>2019-08-02</td>\n",
       "      <td>149.029999</td>\n",
       "      <td>152.949997</td>\n",
       "      <td>145.589996</td>\n",
       "      <td>147.250000</td>\n",
       "      <td>145.535202</td>\n",
       "      <td>8101700</td>\n",
       "    </tr>\n",
       "    <tr>\n",
       "      <td>3</td>\n",
       "      <td>2019-08-05</td>\n",
       "      <td>144.979996</td>\n",
       "      <td>145.100006</td>\n",
       "      <td>139.149994</td>\n",
       "      <td>140.759995</td>\n",
       "      <td>139.120789</td>\n",
       "      <td>7114900</td>\n",
       "    </tr>\n",
       "    <tr>\n",
       "      <td>4</td>\n",
       "      <td>2019-08-06</td>\n",
       "      <td>142.029999</td>\n",
       "      <td>142.470001</td>\n",
       "      <td>139.309998</td>\n",
       "      <td>140.729996</td>\n",
       "      <td>139.091141</td>\n",
       "      <td>5070700</td>\n",
       "    </tr>\n",
       "    <tr>\n",
       "      <td>5</td>\n",
       "      <td>2019-08-07</td>\n",
       "      <td>138.740005</td>\n",
       "      <td>139.580002</td>\n",
       "      <td>136.410004</td>\n",
       "      <td>139.110001</td>\n",
       "      <td>137.490005</td>\n",
       "      <td>5931900</td>\n",
       "    </tr>\n",
       "    <tr>\n",
       "      <td>6</td>\n",
       "      <td>2019-08-08</td>\n",
       "      <td>138.449997</td>\n",
       "      <td>140.419998</td>\n",
       "      <td>137.759995</td>\n",
       "      <td>140.100006</td>\n",
       "      <td>140.100006</td>\n",
       "      <td>5261100</td>\n",
       "    </tr>\n",
       "    <tr>\n",
       "      <td>7</td>\n",
       "      <td>2019-08-09</td>\n",
       "      <td>139.270004</td>\n",
       "      <td>139.309998</td>\n",
       "      <td>135.350006</td>\n",
       "      <td>136.130005</td>\n",
       "      <td>136.130005</td>\n",
       "      <td>5244600</td>\n",
       "    </tr>\n",
       "    <tr>\n",
       "      <td>8</td>\n",
       "      <td>2019-08-12</td>\n",
       "      <td>135.660004</td>\n",
       "      <td>135.869995</td>\n",
       "      <td>133.179993</td>\n",
       "      <td>134.119995</td>\n",
       "      <td>134.119995</td>\n",
       "      <td>3895600</td>\n",
       "    </tr>\n",
       "    <tr>\n",
       "      <td>9</td>\n",
       "      <td>2019-08-13</td>\n",
       "      <td>133.800003</td>\n",
       "      <td>136.570007</td>\n",
       "      <td>132.809998</td>\n",
       "      <td>135.789993</td>\n",
       "      <td>135.789993</td>\n",
       "      <td>4522100</td>\n",
       "    </tr>\n",
       "    <tr>\n",
       "      <td>10</td>\n",
       "      <td>2019-08-14</td>\n",
       "      <td>133.910004</td>\n",
       "      <td>134.160004</td>\n",
       "      <td>130.979996</td>\n",
       "      <td>131.250000</td>\n",
       "      <td>131.250000</td>\n",
       "      <td>5114200</td>\n",
       "    </tr>\n",
       "    <tr>\n",
       "      <td>11</td>\n",
       "      <td>2019-08-15</td>\n",
       "      <td>131.220001</td>\n",
       "      <td>132.369995</td>\n",
       "      <td>130.250000</td>\n",
       "      <td>131.919998</td>\n",
       "      <td>131.919998</td>\n",
       "      <td>3738900</td>\n",
       "    </tr>\n",
       "    <tr>\n",
       "      <td>12</td>\n",
       "      <td>2019-08-16</td>\n",
       "      <td>133.039993</td>\n",
       "      <td>134.589996</td>\n",
       "      <td>132.949997</td>\n",
       "      <td>133.759995</td>\n",
       "      <td>133.759995</td>\n",
       "      <td>3012000</td>\n",
       "    </tr>\n",
       "    <tr>\n",
       "      <td>13</td>\n",
       "      <td>2019-08-19</td>\n",
       "      <td>134.880005</td>\n",
       "      <td>136.330002</td>\n",
       "      <td>134.880005</td>\n",
       "      <td>135.039993</td>\n",
       "      <td>135.039993</td>\n",
       "      <td>3165100</td>\n",
       "    </tr>\n",
       "    <tr>\n",
       "      <td>14</td>\n",
       "      <td>2019-08-20</td>\n",
       "      <td>135.240005</td>\n",
       "      <td>135.279999</td>\n",
       "      <td>132.809998</td>\n",
       "      <td>133.000000</td>\n",
       "      <td>133.000000</td>\n",
       "      <td>3018600</td>\n",
       "    </tr>\n",
       "    <tr>\n",
       "      <td>15</td>\n",
       "      <td>2019-08-21</td>\n",
       "      <td>134.960007</td>\n",
       "      <td>135.940002</td>\n",
       "      <td>133.800003</td>\n",
       "      <td>134.250000</td>\n",
       "      <td>134.250000</td>\n",
       "      <td>2805700</td>\n",
       "    </tr>\n",
       "    <tr>\n",
       "      <td>16</td>\n",
       "      <td>2019-08-22</td>\n",
       "      <td>134.690002</td>\n",
       "      <td>135.679993</td>\n",
       "      <td>133.809998</td>\n",
       "      <td>134.320007</td>\n",
       "      <td>134.320007</td>\n",
       "      <td>2694900</td>\n",
       "    </tr>\n",
       "    <tr>\n",
       "      <td>17</td>\n",
       "      <td>2019-08-23</td>\n",
       "      <td>133.630005</td>\n",
       "      <td>134.259995</td>\n",
       "      <td>128.830002</td>\n",
       "      <td>129.570007</td>\n",
       "      <td>129.570007</td>\n",
       "      <td>4818400</td>\n",
       "    </tr>\n",
       "    <tr>\n",
       "      <td>18</td>\n",
       "      <td>2019-08-26</td>\n",
       "      <td>131.050003</td>\n",
       "      <td>131.300003</td>\n",
       "      <td>129.160004</td>\n",
       "      <td>129.990005</td>\n",
       "      <td>129.990005</td>\n",
       "      <td>2833900</td>\n",
       "    </tr>\n",
       "    <tr>\n",
       "      <td>19</td>\n",
       "      <td>2019-08-27</td>\n",
       "      <td>131.199997</td>\n",
       "      <td>131.699997</td>\n",
       "      <td>130.309998</td>\n",
       "      <td>131.169998</td>\n",
       "      <td>131.169998</td>\n",
       "      <td>4728000</td>\n",
       "    </tr>\n",
       "    <tr>\n",
       "      <td>20</td>\n",
       "      <td>2019-08-28</td>\n",
       "      <td>130.440002</td>\n",
       "      <td>132.889999</td>\n",
       "      <td>130.039993</td>\n",
       "      <td>132.759995</td>\n",
       "      <td>132.759995</td>\n",
       "      <td>2713600</td>\n",
       "    </tr>\n",
       "    <tr>\n",
       "      <td>21</td>\n",
       "      <td>2019-08-29</td>\n",
       "      <td>134.179993</td>\n",
       "      <td>135.690002</td>\n",
       "      <td>134.039993</td>\n",
       "      <td>134.880005</td>\n",
       "      <td>134.880005</td>\n",
       "      <td>2971800</td>\n",
       "    </tr>\n",
       "    <tr>\n",
       "      <td>22</td>\n",
       "      <td>2019-08-30</td>\n",
       "      <td>135.580002</td>\n",
       "      <td>136.070007</td>\n",
       "      <td>134.360001</td>\n",
       "      <td>135.529999</td>\n",
       "      <td>135.529999</td>\n",
       "      <td>2960600</td>\n",
       "    </tr>\n",
       "  </tbody>\n",
       "</table>\n",
       "</div>"
      ],
      "text/plain": [
       "          Date        Open        High         Low       Close   Adj Close  \\\n",
       "0   2019-07-31  149.699997  150.179993  146.389999  148.240005  146.513687   \n",
       "1   2019-08-01  148.899994  152.820007  148.500000  150.320007  148.569458   \n",
       "2   2019-08-02  149.029999  152.949997  145.589996  147.250000  145.535202   \n",
       "3   2019-08-05  144.979996  145.100006  139.149994  140.759995  139.120789   \n",
       "4   2019-08-06  142.029999  142.470001  139.309998  140.729996  139.091141   \n",
       "5   2019-08-07  138.740005  139.580002  136.410004  139.110001  137.490005   \n",
       "6   2019-08-08  138.449997  140.419998  137.759995  140.100006  140.100006   \n",
       "7   2019-08-09  139.270004  139.309998  135.350006  136.130005  136.130005   \n",
       "8   2019-08-12  135.660004  135.869995  133.179993  134.119995  134.119995   \n",
       "9   2019-08-13  133.800003  136.570007  132.809998  135.789993  135.789993   \n",
       "10  2019-08-14  133.910004  134.160004  130.979996  131.250000  131.250000   \n",
       "11  2019-08-15  131.220001  132.369995  130.250000  131.919998  131.919998   \n",
       "12  2019-08-16  133.039993  134.589996  132.949997  133.759995  133.759995   \n",
       "13  2019-08-19  134.880005  136.330002  134.880005  135.039993  135.039993   \n",
       "14  2019-08-20  135.240005  135.279999  132.809998  133.000000  133.000000   \n",
       "15  2019-08-21  134.960007  135.940002  133.800003  134.250000  134.250000   \n",
       "16  2019-08-22  134.690002  135.679993  133.809998  134.320007  134.320007   \n",
       "17  2019-08-23  133.630005  134.259995  128.830002  129.570007  129.570007   \n",
       "18  2019-08-26  131.050003  131.300003  129.160004  129.990005  129.990005   \n",
       "19  2019-08-27  131.199997  131.699997  130.309998  131.169998  131.169998   \n",
       "20  2019-08-28  130.440002  132.889999  130.039993  132.759995  132.759995   \n",
       "21  2019-08-29  134.179993  135.690002  134.039993  134.880005  134.880005   \n",
       "22  2019-08-30  135.580002  136.070007  134.360001  135.529999  135.529999   \n",
       "\n",
       "     Volume  \n",
       "0   3722900  \n",
       "1   6344000  \n",
       "2   8101700  \n",
       "3   7114900  \n",
       "4   5070700  \n",
       "5   5931900  \n",
       "6   5261100  \n",
       "7   5244600  \n",
       "8   3895600  \n",
       "9   4522100  \n",
       "10  5114200  \n",
       "11  3738900  \n",
       "12  3012000  \n",
       "13  3165100  \n",
       "14  3018600  \n",
       "15  2805700  \n",
       "16  2694900  \n",
       "17  4818400  \n",
       "18  2833900  \n",
       "19  4728000  \n",
       "20  2713600  \n",
       "21  2971800  \n",
       "22  2960600  "
      ]
     },
     "execution_count": 89,
     "metadata": {},
     "output_type": "execute_result"
    }
   ],
   "source": [
    "# Getting the real stock price\n",
    "\n",
    "dataset_test = pd.read_csv('Test_Data.csv')\n",
    "dataset_test"
   ]
  },
  {
   "cell_type": "code",
   "execution_count": 90,
   "metadata": {},
   "outputs": [
    {
     "data": {
      "text/plain": [
       "23"
      ]
     },
     "execution_count": 90,
     "metadata": {},
     "output_type": "execute_result"
    }
   ],
   "source": [
    "real_stock_price = dataset_test.iloc[:, 1:2].values\n",
    "real_stock_price.size"
   ]
  },
  {
   "cell_type": "code",
   "execution_count": 91,
   "metadata": {},
   "outputs": [
    {
     "data": {
      "text/plain": [
       "array([[149.699997],\n",
       "       [148.899994],\n",
       "       [149.029999],\n",
       "       [144.979996],\n",
       "       [142.029999],\n",
       "       [138.740005],\n",
       "       [138.449997],\n",
       "       [139.270004],\n",
       "       [135.660004],\n",
       "       [133.800003],\n",
       "       [133.910004],\n",
       "       [131.220001],\n",
       "       [133.039993],\n",
       "       [134.880005],\n",
       "       [135.240005],\n",
       "       [134.960007],\n",
       "       [134.690002],\n",
       "       [133.630005],\n",
       "       [131.050003],\n",
       "       [131.199997],\n",
       "       [130.440002],\n",
       "       [134.179993],\n",
       "       [135.580002]])"
      ]
     },
     "execution_count": 91,
     "metadata": {},
     "output_type": "execute_result"
    }
   ],
   "source": [
    "real_stock_price"
   ]
  },
  {
   "cell_type": "code",
   "execution_count": 92,
   "metadata": {},
   "outputs": [],
   "source": [
    "# Getting the predicted stock price of 2019 August\n",
    "\n",
    "# axis = 0 means concatenate the lines (i.e. vertical axis)\n",
    "dataset_total = pd.concat((dataset_train['Open'], dataset_test['Open']), axis = 0) "
   ]
  },
  {
   "cell_type": "code",
   "execution_count": 93,
   "metadata": {},
   "outputs": [
    {
     "data": {
      "text/plain": [
       "2540"
      ]
     },
     "execution_count": 93,
     "metadata": {},
     "output_type": "execute_result"
    }
   ],
   "source": [
    "dataset_total.size"
   ]
  },
  {
   "cell_type": "code",
   "execution_count": 94,
   "metadata": {},
   "outputs": [],
   "source": [
    "inputs = dataset_total[len(dataset_total) - len(dataset_test) - 90:].values"
   ]
  },
  {
   "cell_type": "code",
   "execution_count": 95,
   "metadata": {},
   "outputs": [
    {
     "data": {
      "text/plain": [
       "113"
      ]
     },
     "execution_count": 95,
     "metadata": {},
     "output_type": "execute_result"
    }
   ],
   "source": [
    "inputs.size"
   ]
  },
  {
   "cell_type": "code",
   "execution_count": 96,
   "metadata": {},
   "outputs": [],
   "source": [
    "# we did not use iloc from panda so lets reshape the numpy array for \n",
    "# compatibility: i.e. all the values from input lines to be stacked in one \n",
    "# column. The -1 means that the numpy has no knowledge of how the \n",
    "# values were stored in lines. The 1 means we want to them in one \n",
    "# column.\n",
    "\n",
    "inputs = inputs.reshape(-1,1) \n",
    "\n",
    "# apply the feature scaler\n",
    "inputs = sc.transform(inputs)"
   ]
  },
  {
   "cell_type": "code",
   "execution_count": 97,
   "metadata": {},
   "outputs": [],
   "source": [
    "# Getting the predicted stock price of 2019 August\n",
    "X_test = []"
   ]
  },
  {
   "cell_type": "code",
   "execution_count": 98,
   "metadata": {},
   "outputs": [],
   "source": [
    "# the first 90 from inputs are from training set; start \n",
    "# from 90 and get the extra 20, i.e. up to 110\n",
    "for i in range(90, 111): \n",
    "    X_test.append(inputs[i-90:i, 0])"
   ]
  },
  {
   "cell_type": "code",
   "execution_count": 99,
   "metadata": {},
   "outputs": [],
   "source": [
    "X_test = np.array(X_test) # not 3D structure yet"
   ]
  },
  {
   "cell_type": "code",
   "execution_count": 100,
   "metadata": {},
   "outputs": [],
   "source": [
    "# create a 3D structure\n",
    "X_test = np.reshape(X_test, (X_test.shape[0], X_test.shape[1], 1))"
   ]
  },
  {
   "cell_type": "code",
   "execution_count": 101,
   "metadata": {},
   "outputs": [],
   "source": [
    "predicted_stock_price = regressor.predict(X_test)"
   ]
  },
  {
   "cell_type": "code",
   "execution_count": 102,
   "metadata": {},
   "outputs": [
    {
     "data": {
      "text/plain": [
       "21"
      ]
     },
     "execution_count": 102,
     "metadata": {},
     "output_type": "execute_result"
    }
   ],
   "source": [
    "# need to inverse the scaling to get meaningful predicted stock price # outputs\n",
    "predicted_stock_price = sc.inverse_transform(predicted_stock_price) \n",
    "predicted_stock_price.size"
   ]
  },
  {
   "cell_type": "markdown",
   "metadata": {},
   "source": [
    "### Result Visualization"
   ]
  },
  {
   "cell_type": "code",
   "execution_count": 103,
   "metadata": {},
   "outputs": [
    {
     "data": {
      "image/png": "[encoded data removed]",
      "text/plain": [
       "<Figure size 432x288 with 1 Axes>"
      ]
     },
     "metadata": {
      "needs_background": "light"
     },
     "output_type": "display_data"
    }
   ],
   "source": [
    "# Visualising the results\n",
    "\n",
    "plt.plot(real_stock_price, color = 'red', label = 'Real IBM Stock Price')\n",
    "\n",
    "plt.plot(predicted_stock_price, color = 'blue', label = 'Predicted IBM Stock Price')\n",
    "\n",
    "plt.title('IBM Stock Price Prediction')\n",
    "plt.xlabel('Time')\n",
    "plt.ylabel('IBM Stock Price')\n",
    "plt.legend()\n",
    "\n",
    "plt.show()"
   ]
  },
  {
   "cell_type": "code",
   "execution_count": null,
   "metadata": {},
   "outputs": [],
   "source": []
  }
 ],
 "metadata": {
  "kernelspec": {
   "display_name": "Python 3",
   "language": "python",
   "name": "python3"
  },
  "language_info": {
   "codemirror_mode": {
    "name": "ipython",
    "version": 3
   },
   "file_extension": ".py",
   "mimetype": "text/x-python",
   "name": "python",
   "nbconvert_exporter": "python",
   "pygments_lexer": "ipython3",
   "version": "3.7.3"
  }
 },
 "nbformat": 4,
 "nbformat_minor": 2
}
